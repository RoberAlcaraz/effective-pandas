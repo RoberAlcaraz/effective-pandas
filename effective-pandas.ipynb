{
 "cells": [
  {
   "cell_type": "markdown",
   "metadata": {},
   "source": [
    "# Effective Pandas Patterns for Data Manipulation"
   ]
  },
  {
   "cell_type": "code",
   "execution_count": 1,
   "metadata": {},
   "outputs": [],
   "source": [
    "import pandas as pd\n",
    "import numpy as np"
   ]
  },
  {
   "cell_type": "markdown",
   "metadata": {},
   "source": [
    "## 5. Series Deep Dive"
   ]
  },
  {
   "cell_type": "code",
   "execution_count": 2,
   "metadata": {},
   "outputs": [
    {
     "name": "stderr",
     "output_type": "stream",
     "text": [
      "C:\\Users\\rober\\AppData\\Local\\Temp\\ipykernel_18524\\548609446.py:4: DtypeWarning: Columns (68,70,71,72,73,74,76,79) have mixed types. Specify dtype option on import or set low_memory=False.\n",
      "  df = pd.read_csv(url)\n"
     ]
    }
   ],
   "source": [
    "url = 'http://github.com/mattharrison/datasets/raw/master/data/' \\\n",
    "    'vehicles.csv.zip'\n",
    "\n",
    "df = pd.read_csv(url)\n",
    "city_mpg = df.city08\n",
    "highway_mpg = df.highway08"
   ]
  },
  {
   "cell_type": "code",
   "execution_count": 2,
   "metadata": {},
   "outputs": [
    {
     "data": {
      "text/plain": [
       "420"
      ]
     },
     "execution_count": 2,
     "metadata": {},
     "output_type": "execute_result"
    }
   ],
   "source": [
    "# Attributes on a series:\n",
    "len(dir(city_mpg))"
   ]
  },
  {
   "cell_type": "markdown",
   "metadata": {},
   "source": [
    "Category of these methods:\n",
    "- Dunder methods: (.__add__, .__iter__, etc.)\n",
    "- Corresponding operator methods (.add -> .__add__)\n",
    "- Aggregate methods (.mean, .median, etc.)\n",
    "- Conversion methods (.to_)\n",
    "- Manipulation methods (.sort_values, .drop, etc.)\n",
    "- Indexing and accessor methods (.loc, .iloc, etc.)\n",
    "- String (.str.), date (.dt.), plotting (.plot.), categorical (.cat.) manipulation\n",
    "- Transformation methods (.unstack, .reset_index)\n",
    "- Attributes (.index, .dtypes)\n",
    "- Private attributes"
   ]
  },
  {
   "cell_type": "markdown",
   "metadata": {},
   "source": [
    "## 6. Operators (and Dunder Methods)"
   ]
  },
  {
   "cell_type": "code",
   "execution_count": 3,
   "metadata": {},
   "outputs": [
    {
     "name": "stdout",
     "output_type": "stream",
     "text": [
      "6\n"
     ]
    },
    {
     "data": {
      "text/plain": [
       "6"
      ]
     },
     "execution_count": 3,
     "metadata": {},
     "output_type": "execute_result"
    }
   ],
   "source": [
    "# Dunder methods\n",
    "print(2 + 4)\n",
    "(2).__add__(4)"
   ]
  },
  {
   "cell_type": "markdown",
   "metadata": {},
   "source": [
    "To perform operations between pandas Series, you will want to make sure that the indexes:\n",
    "- are unique (no duplicates)\n",
    "- are common to both series"
   ]
  },
  {
   "cell_type": "markdown",
   "metadata": {},
   "source": [
    "Iterations: avoid using a for loop with a series"
   ]
  },
  {
   "cell_type": "code",
   "execution_count": 6,
   "metadata": {},
   "outputs": [
    {
     "name": "stdout",
     "output_type": "stream",
     "text": [
      "1     NaN\n",
      "2    55.0\n",
      "2    64.0\n",
      "2    65.0\n",
      "2    74.0\n",
      "4     NaN\n",
      "dtype: float64\n"
     ]
    },
    {
     "data": {
      "text/plain": [
       "1    10.0\n",
       "2    55.0\n",
       "2    64.0\n",
       "2    65.0\n",
       "2    74.0\n",
       "4    53.0\n",
       "dtype: float64"
      ]
     },
     "execution_count": 6,
     "metadata": {},
     "output_type": "execute_result"
    }
   ],
   "source": [
    "# Operator methods: we can use the fill_valueto specify that we\n",
    "# use another value instead\n",
    "\n",
    "s1 = pd.Series([10, 20, 30], index=[1, 2, 2])\n",
    "s2 = pd.Series([35, 44, 53], index=[2, 2, 4], name=\"s2\")\n",
    "\n",
    "print(s1 + s2)\n",
    "s1.add(s2, fill_value=0)"
   ]
  },
  {
   "cell_type": "code",
   "execution_count": 8,
   "metadata": {},
   "outputs": [
    {
     "name": "stdout",
     "output_type": "stream",
     "text": [
      "0        22.0\n",
      "1        11.5\n",
      "2        28.0\n",
      "3        11.0\n",
      "4        20.0\n",
      "         ... \n",
      "41139    22.5\n",
      "41140    24.0\n",
      "41141    21.0\n",
      "41142    21.0\n",
      "41143    18.5\n",
      "Length: 41144, dtype: float64\n"
     ]
    },
    {
     "data": {
      "text/plain": [
       "0        22.0\n",
       "1        11.5\n",
       "2        28.0\n",
       "3        11.0\n",
       "4        20.0\n",
       "         ... \n",
       "41139    22.5\n",
       "41140    24.0\n",
       "41141    21.0\n",
       "41142    21.0\n",
       "41143    18.5\n",
       "Length: 41144, dtype: float64"
      ]
     },
     "execution_count": 8,
     "metadata": {},
     "output_type": "execute_result"
    }
   ],
   "source": [
    "# Chaining: it is preferable to use the method instead of the opeator\n",
    "# because it makes chaining manipulation easier.\n",
    "\n",
    "print((city_mpg + highway_mpg) / 2)\n",
    "\n",
    "# Using methods:\n",
    "(city_mpg\n",
    ".add(highway_mpg)\n",
    ".div(2)\n",
    ")"
   ]
  },
  {
   "cell_type": "markdown",
   "metadata": {},
   "source": [
    "## 7. Aggregate methods"
   ]
  },
  {
   "cell_type": "markdown",
   "metadata": {},
   "source": [
    "Aggregations allow you to take detailed data and collapse it to a single value."
   ]
  },
  {
   "cell_type": "code",
   "execution_count": 10,
   "metadata": {},
   "outputs": [
    {
     "data": {
      "text/plain": [
       "24.965973167412017"
      ]
     },
     "execution_count": 10,
     "metadata": {},
     "output_type": "execute_result"
    }
   ],
   "source": [
    "# Count and percentage\n",
    "(city_mpg\n",
    ".gt(20)\n",
    ".sum()\n",
    ")\n",
    "\n",
    "(city_mpg\n",
    ".gt(20)\n",
    ".mul(100)\n",
    ".mean()\n",
    ")"
   ]
  },
  {
   "cell_type": "code",
   "execution_count": 11,
   "metadata": {},
   "outputs": [
    {
     "data": {
      "text/plain": [
       "mean     18.369045\n",
       "max     150.000000\n",
       "skew      7.705198\n",
       "Name: city08, dtype: float64"
      ]
     },
     "execution_count": 11,
     "metadata": {},
     "output_type": "execute_result"
    }
   ],
   "source": [
    "# .agg and aggregation strings\n",
    "\n",
    "city_mpg.agg(['mean', max, 'skew'])"
   ]
  },
  {
   "cell_type": "code",
   "execution_count": 12,
   "metadata": {},
   "outputs": [
    {
     "data": {
      "text/plain": [
       "0"
      ]
     },
     "execution_count": 12,
     "metadata": {},
     "output_type": "execute_result"
    }
   ],
   "source": [
    "(highway_mpg\n",
    ".isna()\n",
    ".sum()\n",
    ")"
   ]
  },
  {
   "cell_type": "code",
   "execution_count": 20,
   "metadata": {},
   "outputs": [
    {
     "data": {
      "text/plain": [
       "count_not_na                                                41144\n",
       "size                                                        41144\n",
       "unique          [25, 14, 33, 12, 23, 24, 29, 26, 31, 30, 15, 2...\n",
       "mean                                                    24.504667\n",
       "max                                                           124\n",
       "Name: highway08, dtype: object"
      ]
     },
     "execution_count": 20,
     "metadata": {},
     "output_type": "execute_result"
    }
   ],
   "source": [
    "def count_not_na(s):\n",
    "    return s.notna().sum()\n",
    "highway_mpg.agg([count_not_na, 'size', 'unique', 'mean', 'max'])"
   ]
  },
  {
   "cell_type": "markdown",
   "metadata": {},
   "source": [
    "## 8. Conversion methods\n",
    "\n",
    "Using the correct type can save significant amounts of memory"
   ]
  },
  {
   "cell_type": "code",
   "execution_count": 27,
   "metadata": {},
   "outputs": [
    {
     "data": {
      "text/plain": [
       "329280"
      ]
     },
     "execution_count": 27,
     "metadata": {},
     "output_type": "execute_result"
    }
   ],
   "source": [
    "np.iinfo('int16')\n",
    "\n",
    "# Memory usage:\n",
    "city_mpg.nbytes\n",
    "city_mpg.memory_usage()"
   ]
  },
  {
   "cell_type": "markdown",
   "metadata": {},
   "source": [
    "A categorical series is useful for string data and can result in large memory savings."
   ]
  },
  {
   "cell_type": "markdown",
   "metadata": {},
   "source": [
    "## 9. Manipulation methods"
   ]
  },
  {
   "cell_type": "code",
   "execution_count": 37,
   "metadata": {},
   "outputs": [
    {
     "data": {
      "text/plain": [
       "array(['Other', 'Other', 'Dodge', ..., 'Other', 'Other', 'Other'],\n",
       "      dtype=object)"
      ]
     },
     "execution_count": 37,
     "metadata": {},
     "output_type": "execute_result"
    }
   ],
   "source": [
    "# .apply and .where\n",
    "\n",
    "mask = df.make.value_counts().index[:5]\n",
    "np.where(df.make.isin(mask), df.make, 'Other')\n"
   ]
  },
  {
   "cell_type": "code",
   "execution_count": 50,
   "metadata": {},
   "outputs": [
    {
     "name": "stdout",
     "output_type": "stream",
     "text": [
      "41144\n"
     ]
    },
    {
     "data": {
      "text/plain": [
       "RangeIndex(start=0, stop=41144, step=1)"
      ]
     },
     "execution_count": 50,
     "metadata": {},
     "output_type": "execute_result"
    }
   ],
   "source": [
    "# Filling In Missing Data\n",
    "\n",
    "# - Drop na (.dropna())\n",
    "# - ffill (.ffill())\n",
    "# - interpolate (.interpolate())\n",
    "# - fillna (with mean, median, etc)\n",
    "\n",
    "# Clip allows you to remove values that might be outliers\n",
    "print(len(city_mpg))\n",
    "(city_mpg\n",
    ".clip(lower=city_mpg.quantile(.05),\n",
    "      upper=city_mpg.quantile(.95))\n",
    ".index\n",
    ")\n",
    "#city_mpg[city_mpg < 11]"
   ]
  },
  {
   "cell_type": "code",
   "execution_count": 7,
   "metadata": {},
   "outputs": [
    {
     "data": {
      "text/plain": [
       "0        14.0\n",
       "1         4.0\n",
       "2        18.0\n",
       "3         5.0\n",
       "4        12.0\n",
       "         ... \n",
       "41139    14.0\n",
       "41140    15.0\n",
       "41141    13.0\n",
       "41142    13.0\n",
       "41143    11.0\n",
       "Name: city08, Length: 41144, dtype: float64"
      ]
     },
     "execution_count": 7,
     "metadata": {},
     "output_type": "execute_result"
    }
   ],
   "source": [
    "# Ranking data\n",
    "\n",
    "(city_mpg\n",
    ".rank(method='dense')\n",
    ")\n",
    "# help(pd.Series.rank)"
   ]
  },
  {
   "cell_type": "code",
   "execution_count": 9,
   "metadata": {},
   "outputs": [
    {
     "data": {
      "text/plain": [
       "0        (5.856, 20.4]\n",
       "1        (5.856, 20.4]\n",
       "2         (20.4, 34.8]\n",
       "3        (5.856, 20.4]\n",
       "4        (5.856, 20.4]\n",
       "             ...      \n",
       "41139    (5.856, 20.4]\n",
       "41140    (5.856, 20.4]\n",
       "41141    (5.856, 20.4]\n",
       "41142    (5.856, 20.4]\n",
       "41143    (5.856, 20.4]\n",
       "Name: city08, Length: 41144, dtype: category\n",
       "Categories (10, interval[float64, right]): [(5.856, 20.4] < (20.4, 34.8] < (34.8, 49.2] < (49.2, 63.6] ... (92.4, 106.8] < (106.8, 121.2] < (121.2, 135.6] < (135.6, 150.0]]"
      ]
     },
     "execution_count": 9,
     "metadata": {},
     "output_type": "execute_result"
    }
   ],
   "source": [
    "pd.cut(city_mpg, 10)"
   ]
  },
  {
   "cell_type": "code",
   "execution_count": 26,
   "metadata": {},
   "outputs": [
    {
     "name": "stdout",
     "output_type": "stream",
     "text": [
      "5.83 ms ± 665 µs per loop (mean ± std. dev. of 7 runs, 100 loops each)\n",
      "988 µs ± 192 µs per loop (mean ± std. dev. of 7 runs, 100 loops each)\n",
      "357 µs ± 17.7 µs per loop (mean ± std. dev. of 7 runs, 100 loops each)\n"
     ]
    }
   ],
   "source": [
    "# Exercises:\n",
    "# 1\n",
    "np.where(city_mpg >= city_mpg.mean(), 'high', 'low')\n",
    "\n",
    "mean_city_mpg = np.mean(city_mpg)\n",
    "def compare(e):\n",
    "    if e >= mean_city_mpg:\n",
    "        return 'high'\n",
    "    return 'low'\n",
    "\n",
    "%timeit -n 100 city_mpg.apply(compare)\n",
    "\n",
    "# 2\n",
    "%timeit -n 100 np.select([city_mpg >= city_mpg.mean(), city_mpg < city_mpg.mean()], ['high', 'low'])\n",
    "%timeit -n 100 np.where(city_mpg >= city_mpg.mean(), 'high', 'low')\n",
    "\n"
   ]
  }
 ],
 "metadata": {
  "kernelspec": {
   "display_name": "Python 3.9.13 ('effective-pandas')",
   "language": "python",
   "name": "python3"
  },
  "language_info": {
   "codemirror_mode": {
    "name": "ipython",
    "version": 3
   },
   "file_extension": ".py",
   "mimetype": "text/x-python",
   "name": "python",
   "nbconvert_exporter": "python",
   "pygments_lexer": "ipython3",
   "version": "3.9.13"
  },
  "orig_nbformat": 4,
  "vscode": {
   "interpreter": {
    "hash": "51993752a14add0fa2ed914e089e924cbbb912ef97c6e934cf3bf66a1847f818"
   }
  }
 },
 "nbformat": 4,
 "nbformat_minor": 2
}
